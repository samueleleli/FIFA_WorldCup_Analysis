{
 "cells": [
  {
   "cell_type": "code",
   "execution_count": 40,
   "id": "048b1b5c",
   "metadata": {},
   "outputs": [],
   "source": [
    "#import\n",
    "import matplotlib.pyplot as plt \n",
    "import numpy as np \n",
    "import os \n",
    "import pandas as pd \n",
    "\n",
    "%matplotlib inline"
   ]
  },
  {
   "cell_type": "code",
   "execution_count": 41,
   "id": "e1efa63f",
   "metadata": {},
   "outputs": [],
   "source": [
    "df = pd.read_csv(\"./dataset_MSFT_Stock/MSFT_Stock.csv\", index_col=0)"
   ]
  }
 ],
 "metadata": {
  "kernelspec": {
   "display_name": "Python 3.9.13 64-bit",
   "language": "python",
   "name": "python3"
  },
  "language_info": {
   "codemirror_mode": {
    "name": "ipython",
    "version": 3
   },
   "file_extension": ".py",
   "mimetype": "text/x-python",
   "name": "python",
   "nbconvert_exporter": "python",
   "pygments_lexer": "ipython3",
   "version": "3.9.13"
  },
  "vscode": {
   "interpreter": {
    "hash": "9390b399ef6e2965df510c80825b09eb8a490d8d772be155a6ac8cbea4637c3d"
   }
  }
 },
 "nbformat": 4,
 "nbformat_minor": 5
}
