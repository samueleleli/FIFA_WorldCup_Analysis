{
 "cells": [
  {
   "cell_type": "code",
   "execution_count": 2,
   "id": "048b1b5c",
   "metadata": {},
   "outputs": [],
   "source": [
    "#import\n",
    "import pandas as pd\n",
    "import numpy as np\n",
    "\n",
    "#PATH dove andare a leggere e a scrivere\n",
    "PATH_TO_WRITE_ETL = \"./dataset_modificato/\"\n",
    "PATH_FROM_READ_ETL = \"./dataset_originale/\"\n",
    "PATH_FROM_READ_ANALYSIS = \"./dataset_modificato/\" "
   ]
  }
 ],
 "metadata": {
  "kernelspec": {
   "display_name": "Python 3.9.13 64-bit",
   "language": "python",
   "name": "python3"
  },
  "language_info": {
   "codemirror_mode": {
    "name": "ipython",
    "version": 3
   },
   "file_extension": ".py",
   "mimetype": "text/x-python",
   "name": "python",
   "nbconvert_exporter": "python",
   "pygments_lexer": "ipython3",
   "version": "3.9.13"
  },
  "vscode": {
   "interpreter": {
    "hash": "57ab650755106788127778ca676b1d597fe3fd74372f745f5eeb1dc0c5eefa13"
   }
  }
 },
 "nbformat": 4,
 "nbformat_minor": 5
}
